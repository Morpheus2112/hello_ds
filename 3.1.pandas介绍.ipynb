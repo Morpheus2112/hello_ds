{
 "cells": [
  {
   "cell_type": "code",
   "execution_count": 1,
   "source": [
    "import pandas as pd"
   ],
   "outputs": [],
   "metadata": {}
  },
  {
   "cell_type": "code",
   "execution_count": 2,
   "source": [
    "import numpy as np"
   ],
   "outputs": [],
   "metadata": {}
  },
  {
   "cell_type": "code",
   "execution_count": 3,
   "source": [
    "stock_change = np.random.normal(0, 1, (10, 5))"
   ],
   "outputs": [],
   "metadata": {}
  },
  {
   "cell_type": "code",
   "execution_count": 4,
   "source": [
    "stock_day_rise = pd.DataFrame(stock_change)"
   ],
   "outputs": [],
   "metadata": {}
  },
  {
   "cell_type": "code",
   "execution_count": 5,
   "source": [
    "# 构造行索引序列\r\n",
    "stock_code = ['股票' + str(i) for i in range(stock_day_rise.shape[0])]\r\n",
    "\r\n",
    "# 添加行索引\r\n",
    "data = pd.DataFrame(stock_change, index=stock_code)"
   ],
   "outputs": [],
   "metadata": {}
  },
  {
   "cell_type": "code",
   "execution_count": 6,
   "source": [
    "# 生成一个时间的序列，略过周末非交易日\r\n",
    "date = pd.date_range('2017-01-01', periods=stock_day_rise.shape[1], freq='B')\r\n",
    "\r\n",
    "# index代表行索引，columns代表列索引\r\n",
    "data = pd.DataFrame(stock_change, index=stock_code, columns=date)"
   ],
   "outputs": [],
   "metadata": {}
  },
  {
   "cell_type": "code",
   "execution_count": 7,
   "source": [
    "data.shape"
   ],
   "outputs": [
    {
     "output_type": "execute_result",
     "data": {
      "text/plain": [
       "(10, 5)"
      ]
     },
     "metadata": {},
     "execution_count": 7
    }
   ],
   "metadata": {}
  },
  {
   "cell_type": "code",
   "execution_count": 8,
   "source": [
    "data.index"
   ],
   "outputs": [
    {
     "output_type": "execute_result",
     "data": {
      "text/plain": [
       "Index(['股票0', '股票1', '股票2', '股票3', '股票4', '股票5', '股票6', '股票7', '股票8', '股票9'], dtype='object')"
      ]
     },
     "metadata": {},
     "execution_count": 8
    }
   ],
   "metadata": {}
  },
  {
   "cell_type": "code",
   "execution_count": 9,
   "source": [
    "data.columns"
   ],
   "outputs": [
    {
     "output_type": "execute_result",
     "data": {
      "text/plain": [
       "DatetimeIndex(['2017-01-02', '2017-01-03', '2017-01-04', '2017-01-05',\n",
       "               '2017-01-06'],\n",
       "              dtype='datetime64[ns]', freq='B')"
      ]
     },
     "metadata": {},
     "execution_count": 9
    }
   ],
   "metadata": {}
  },
  {
   "cell_type": "code",
   "execution_count": 10,
   "source": [
    "data.values"
   ],
   "outputs": [
    {
     "output_type": "execute_result",
     "data": {
      "text/plain": [
       "array([[-1.20045320e+00,  2.86522749e-01, -2.86580879e-01,\n",
       "        -1.07339122e+00,  1.57833318e+00],\n",
       "       [-6.11105235e-03, -1.76618813e-03,  8.92957747e-01,\n",
       "        -3.81486989e-01,  1.48333475e+00],\n",
       "       [-4.90076320e-01,  1.58146622e+00, -1.53453277e+00,\n",
       "         4.25127176e-01,  1.16487854e-01],\n",
       "       [-1.74277919e+00, -2.35003541e-01,  7.30924600e-03,\n",
       "        -3.23024646e-01, -5.37872656e-01],\n",
       "       [-1.22188092e+00, -6.24945874e-01,  3.89926427e-01,\n",
       "         2.58244237e-02,  4.59044845e-01],\n",
       "       [ 6.37083664e-01,  1.11662976e+00,  1.25219227e+00,\n",
       "        -3.62733499e-01,  1.23427134e+00],\n",
       "       [ 3.00234980e-01, -1.68155360e+00, -9.58954981e-01,\n",
       "         1.68611927e-01,  1.07467154e+00],\n",
       "       [ 2.03353075e+00, -9.19406434e-01, -4.84184702e-01,\n",
       "         3.75910965e-01, -1.08994169e+00],\n",
       "       [ 1.00060861e+00,  8.10011965e-01,  9.74598976e-01,\n",
       "        -1.49492184e+00,  2.91665819e-01],\n",
       "       [-1.59150802e+00, -3.42284683e-01, -8.76482399e-01,\n",
       "         5.57702894e-01, -7.89053580e-01]])"
      ]
     },
     "metadata": {},
     "execution_count": 10
    }
   ],
   "metadata": {}
  },
  {
   "cell_type": "code",
   "execution_count": 11,
   "source": [
    "data.T\r\n"
   ],
   "outputs": [
    {
     "output_type": "execute_result",
     "data": {
      "text/html": [
       "<div>\n",
       "<style scoped>\n",
       "    .dataframe tbody tr th:only-of-type {\n",
       "        vertical-align: middle;\n",
       "    }\n",
       "\n",
       "    .dataframe tbody tr th {\n",
       "        vertical-align: top;\n",
       "    }\n",
       "\n",
       "    .dataframe thead th {\n",
       "        text-align: right;\n",
       "    }\n",
       "</style>\n",
       "<table border=\"1\" class=\"dataframe\">\n",
       "  <thead>\n",
       "    <tr style=\"text-align: right;\">\n",
       "      <th></th>\n",
       "      <th>股票0</th>\n",
       "      <th>股票1</th>\n",
       "      <th>股票2</th>\n",
       "      <th>股票3</th>\n",
       "      <th>股票4</th>\n",
       "      <th>股票5</th>\n",
       "      <th>股票6</th>\n",
       "      <th>股票7</th>\n",
       "      <th>股票8</th>\n",
       "      <th>股票9</th>\n",
       "    </tr>\n",
       "  </thead>\n",
       "  <tbody>\n",
       "    <tr>\n",
       "      <th>2017-01-02</th>\n",
       "      <td>-1.200453</td>\n",
       "      <td>-0.006111</td>\n",
       "      <td>-0.490076</td>\n",
       "      <td>-1.742779</td>\n",
       "      <td>-1.221881</td>\n",
       "      <td>0.637084</td>\n",
       "      <td>0.300235</td>\n",
       "      <td>2.033531</td>\n",
       "      <td>1.000609</td>\n",
       "      <td>-1.591508</td>\n",
       "    </tr>\n",
       "    <tr>\n",
       "      <th>2017-01-03</th>\n",
       "      <td>0.286523</td>\n",
       "      <td>-0.001766</td>\n",
       "      <td>1.581466</td>\n",
       "      <td>-0.235004</td>\n",
       "      <td>-0.624946</td>\n",
       "      <td>1.116630</td>\n",
       "      <td>-1.681554</td>\n",
       "      <td>-0.919406</td>\n",
       "      <td>0.810012</td>\n",
       "      <td>-0.342285</td>\n",
       "    </tr>\n",
       "    <tr>\n",
       "      <th>2017-01-04</th>\n",
       "      <td>-0.286581</td>\n",
       "      <td>0.892958</td>\n",
       "      <td>-1.534533</td>\n",
       "      <td>0.007309</td>\n",
       "      <td>0.389926</td>\n",
       "      <td>1.252192</td>\n",
       "      <td>-0.958955</td>\n",
       "      <td>-0.484185</td>\n",
       "      <td>0.974599</td>\n",
       "      <td>-0.876482</td>\n",
       "    </tr>\n",
       "    <tr>\n",
       "      <th>2017-01-05</th>\n",
       "      <td>-1.073391</td>\n",
       "      <td>-0.381487</td>\n",
       "      <td>0.425127</td>\n",
       "      <td>-0.323025</td>\n",
       "      <td>0.025824</td>\n",
       "      <td>-0.362733</td>\n",
       "      <td>0.168612</td>\n",
       "      <td>0.375911</td>\n",
       "      <td>-1.494922</td>\n",
       "      <td>0.557703</td>\n",
       "    </tr>\n",
       "    <tr>\n",
       "      <th>2017-01-06</th>\n",
       "      <td>1.578333</td>\n",
       "      <td>1.483335</td>\n",
       "      <td>0.116488</td>\n",
       "      <td>-0.537873</td>\n",
       "      <td>0.459045</td>\n",
       "      <td>1.234271</td>\n",
       "      <td>1.074672</td>\n",
       "      <td>-1.089942</td>\n",
       "      <td>0.291666</td>\n",
       "      <td>-0.789054</td>\n",
       "    </tr>\n",
       "  </tbody>\n",
       "</table>\n",
       "</div>"
      ],
      "text/plain": [
       "                 股票0       股票1       股票2       股票3       股票4       股票5  \\\n",
       "2017-01-02 -1.200453 -0.006111 -0.490076 -1.742779 -1.221881  0.637084   \n",
       "2017-01-03  0.286523 -0.001766  1.581466 -0.235004 -0.624946  1.116630   \n",
       "2017-01-04 -0.286581  0.892958 -1.534533  0.007309  0.389926  1.252192   \n",
       "2017-01-05 -1.073391 -0.381487  0.425127 -0.323025  0.025824 -0.362733   \n",
       "2017-01-06  1.578333  1.483335  0.116488 -0.537873  0.459045  1.234271   \n",
       "\n",
       "                 股票6       股票7       股票8       股票9  \n",
       "2017-01-02  0.300235  2.033531  1.000609 -1.591508  \n",
       "2017-01-03 -1.681554 -0.919406  0.810012 -0.342285  \n",
       "2017-01-04 -0.958955 -0.484185  0.974599 -0.876482  \n",
       "2017-01-05  0.168612  0.375911 -1.494922  0.557703  \n",
       "2017-01-06  1.074672 -1.089942  0.291666 -0.789054  "
      ]
     },
     "metadata": {},
     "execution_count": 11
    }
   ],
   "metadata": {}
  },
  {
   "cell_type": "code",
   "execution_count": 12,
   "source": [
    "data.head(5)"
   ],
   "outputs": [
    {
     "output_type": "execute_result",
     "data": {
      "text/html": [
       "<div>\n",
       "<style scoped>\n",
       "    .dataframe tbody tr th:only-of-type {\n",
       "        vertical-align: middle;\n",
       "    }\n",
       "\n",
       "    .dataframe tbody tr th {\n",
       "        vertical-align: top;\n",
       "    }\n",
       "\n",
       "    .dataframe thead th {\n",
       "        text-align: right;\n",
       "    }\n",
       "</style>\n",
       "<table border=\"1\" class=\"dataframe\">\n",
       "  <thead>\n",
       "    <tr style=\"text-align: right;\">\n",
       "      <th></th>\n",
       "      <th>2017-01-02</th>\n",
       "      <th>2017-01-03</th>\n",
       "      <th>2017-01-04</th>\n",
       "      <th>2017-01-05</th>\n",
       "      <th>2017-01-06</th>\n",
       "    </tr>\n",
       "  </thead>\n",
       "  <tbody>\n",
       "    <tr>\n",
       "      <th>股票0</th>\n",
       "      <td>-1.200453</td>\n",
       "      <td>0.286523</td>\n",
       "      <td>-0.286581</td>\n",
       "      <td>-1.073391</td>\n",
       "      <td>1.578333</td>\n",
       "    </tr>\n",
       "    <tr>\n",
       "      <th>股票1</th>\n",
       "      <td>-0.006111</td>\n",
       "      <td>-0.001766</td>\n",
       "      <td>0.892958</td>\n",
       "      <td>-0.381487</td>\n",
       "      <td>1.483335</td>\n",
       "    </tr>\n",
       "    <tr>\n",
       "      <th>股票2</th>\n",
       "      <td>-0.490076</td>\n",
       "      <td>1.581466</td>\n",
       "      <td>-1.534533</td>\n",
       "      <td>0.425127</td>\n",
       "      <td>0.116488</td>\n",
       "    </tr>\n",
       "    <tr>\n",
       "      <th>股票3</th>\n",
       "      <td>-1.742779</td>\n",
       "      <td>-0.235004</td>\n",
       "      <td>0.007309</td>\n",
       "      <td>-0.323025</td>\n",
       "      <td>-0.537873</td>\n",
       "    </tr>\n",
       "    <tr>\n",
       "      <th>股票4</th>\n",
       "      <td>-1.221881</td>\n",
       "      <td>-0.624946</td>\n",
       "      <td>0.389926</td>\n",
       "      <td>0.025824</td>\n",
       "      <td>0.459045</td>\n",
       "    </tr>\n",
       "  </tbody>\n",
       "</table>\n",
       "</div>"
      ],
      "text/plain": [
       "     2017-01-02  2017-01-03  2017-01-04  2017-01-05  2017-01-06\n",
       "股票0   -1.200453    0.286523   -0.286581   -1.073391    1.578333\n",
       "股票1   -0.006111   -0.001766    0.892958   -0.381487    1.483335\n",
       "股票2   -0.490076    1.581466   -1.534533    0.425127    0.116488\n",
       "股票3   -1.742779   -0.235004    0.007309   -0.323025   -0.537873\n",
       "股票4   -1.221881   -0.624946    0.389926    0.025824    0.459045"
      ]
     },
     "metadata": {},
     "execution_count": 12
    }
   ],
   "metadata": {}
  },
  {
   "cell_type": "code",
   "execution_count": 13,
   "source": [
    "data.tail(5)"
   ],
   "outputs": [
    {
     "output_type": "execute_result",
     "data": {
      "text/html": [
       "<div>\n",
       "<style scoped>\n",
       "    .dataframe tbody tr th:only-of-type {\n",
       "        vertical-align: middle;\n",
       "    }\n",
       "\n",
       "    .dataframe tbody tr th {\n",
       "        vertical-align: top;\n",
       "    }\n",
       "\n",
       "    .dataframe thead th {\n",
       "        text-align: right;\n",
       "    }\n",
       "</style>\n",
       "<table border=\"1\" class=\"dataframe\">\n",
       "  <thead>\n",
       "    <tr style=\"text-align: right;\">\n",
       "      <th></th>\n",
       "      <th>2017-01-02</th>\n",
       "      <th>2017-01-03</th>\n",
       "      <th>2017-01-04</th>\n",
       "      <th>2017-01-05</th>\n",
       "      <th>2017-01-06</th>\n",
       "    </tr>\n",
       "  </thead>\n",
       "  <tbody>\n",
       "    <tr>\n",
       "      <th>股票5</th>\n",
       "      <td>0.637084</td>\n",
       "      <td>1.116630</td>\n",
       "      <td>1.252192</td>\n",
       "      <td>-0.362733</td>\n",
       "      <td>1.234271</td>\n",
       "    </tr>\n",
       "    <tr>\n",
       "      <th>股票6</th>\n",
       "      <td>0.300235</td>\n",
       "      <td>-1.681554</td>\n",
       "      <td>-0.958955</td>\n",
       "      <td>0.168612</td>\n",
       "      <td>1.074672</td>\n",
       "    </tr>\n",
       "    <tr>\n",
       "      <th>股票7</th>\n",
       "      <td>2.033531</td>\n",
       "      <td>-0.919406</td>\n",
       "      <td>-0.484185</td>\n",
       "      <td>0.375911</td>\n",
       "      <td>-1.089942</td>\n",
       "    </tr>\n",
       "    <tr>\n",
       "      <th>股票8</th>\n",
       "      <td>1.000609</td>\n",
       "      <td>0.810012</td>\n",
       "      <td>0.974599</td>\n",
       "      <td>-1.494922</td>\n",
       "      <td>0.291666</td>\n",
       "    </tr>\n",
       "    <tr>\n",
       "      <th>股票9</th>\n",
       "      <td>-1.591508</td>\n",
       "      <td>-0.342285</td>\n",
       "      <td>-0.876482</td>\n",
       "      <td>0.557703</td>\n",
       "      <td>-0.789054</td>\n",
       "    </tr>\n",
       "  </tbody>\n",
       "</table>\n",
       "</div>"
      ],
      "text/plain": [
       "     2017-01-02  2017-01-03  2017-01-04  2017-01-05  2017-01-06\n",
       "股票5    0.637084    1.116630    1.252192   -0.362733    1.234271\n",
       "股票6    0.300235   -1.681554   -0.958955    0.168612    1.074672\n",
       "股票7    2.033531   -0.919406   -0.484185    0.375911   -1.089942\n",
       "股票8    1.000609    0.810012    0.974599   -1.494922    0.291666\n",
       "股票9   -1.591508   -0.342285   -0.876482    0.557703   -0.789054"
      ]
     },
     "metadata": {},
     "execution_count": 13
    }
   ],
   "metadata": {}
  },
  {
   "cell_type": "code",
   "execution_count": 14,
   "source": [
    "stock_code = [\"股票_\" + str(i) for i in range(stock_day_rise.shape[0])]\r\n",
    "\r\n",
    "# 必须整体全部修改\r\n",
    "data.index = stock_code"
   ],
   "outputs": [],
   "metadata": {}
  },
  {
   "cell_type": "code",
   "execution_count": 15,
   "source": [
    "# 重置索引,drop=False\r\n",
    "data.reset_index()"
   ],
   "outputs": [
    {
     "output_type": "execute_result",
     "data": {
      "text/html": [
       "<div>\n",
       "<style scoped>\n",
       "    .dataframe tbody tr th:only-of-type {\n",
       "        vertical-align: middle;\n",
       "    }\n",
       "\n",
       "    .dataframe tbody tr th {\n",
       "        vertical-align: top;\n",
       "    }\n",
       "\n",
       "    .dataframe thead th {\n",
       "        text-align: right;\n",
       "    }\n",
       "</style>\n",
       "<table border=\"1\" class=\"dataframe\">\n",
       "  <thead>\n",
       "    <tr style=\"text-align: right;\">\n",
       "      <th></th>\n",
       "      <th>index</th>\n",
       "      <th>2017-01-02 00:00:00</th>\n",
       "      <th>2017-01-03 00:00:00</th>\n",
       "      <th>2017-01-04 00:00:00</th>\n",
       "      <th>2017-01-05 00:00:00</th>\n",
       "      <th>2017-01-06 00:00:00</th>\n",
       "    </tr>\n",
       "  </thead>\n",
       "  <tbody>\n",
       "    <tr>\n",
       "      <th>0</th>\n",
       "      <td>股票_0</td>\n",
       "      <td>-1.200453</td>\n",
       "      <td>0.286523</td>\n",
       "      <td>-0.286581</td>\n",
       "      <td>-1.073391</td>\n",
       "      <td>1.578333</td>\n",
       "    </tr>\n",
       "    <tr>\n",
       "      <th>1</th>\n",
       "      <td>股票_1</td>\n",
       "      <td>-0.006111</td>\n",
       "      <td>-0.001766</td>\n",
       "      <td>0.892958</td>\n",
       "      <td>-0.381487</td>\n",
       "      <td>1.483335</td>\n",
       "    </tr>\n",
       "    <tr>\n",
       "      <th>2</th>\n",
       "      <td>股票_2</td>\n",
       "      <td>-0.490076</td>\n",
       "      <td>1.581466</td>\n",
       "      <td>-1.534533</td>\n",
       "      <td>0.425127</td>\n",
       "      <td>0.116488</td>\n",
       "    </tr>\n",
       "    <tr>\n",
       "      <th>3</th>\n",
       "      <td>股票_3</td>\n",
       "      <td>-1.742779</td>\n",
       "      <td>-0.235004</td>\n",
       "      <td>0.007309</td>\n",
       "      <td>-0.323025</td>\n",
       "      <td>-0.537873</td>\n",
       "    </tr>\n",
       "    <tr>\n",
       "      <th>4</th>\n",
       "      <td>股票_4</td>\n",
       "      <td>-1.221881</td>\n",
       "      <td>-0.624946</td>\n",
       "      <td>0.389926</td>\n",
       "      <td>0.025824</td>\n",
       "      <td>0.459045</td>\n",
       "    </tr>\n",
       "    <tr>\n",
       "      <th>5</th>\n",
       "      <td>股票_5</td>\n",
       "      <td>0.637084</td>\n",
       "      <td>1.116630</td>\n",
       "      <td>1.252192</td>\n",
       "      <td>-0.362733</td>\n",
       "      <td>1.234271</td>\n",
       "    </tr>\n",
       "    <tr>\n",
       "      <th>6</th>\n",
       "      <td>股票_6</td>\n",
       "      <td>0.300235</td>\n",
       "      <td>-1.681554</td>\n",
       "      <td>-0.958955</td>\n",
       "      <td>0.168612</td>\n",
       "      <td>1.074672</td>\n",
       "    </tr>\n",
       "    <tr>\n",
       "      <th>7</th>\n",
       "      <td>股票_7</td>\n",
       "      <td>2.033531</td>\n",
       "      <td>-0.919406</td>\n",
       "      <td>-0.484185</td>\n",
       "      <td>0.375911</td>\n",
       "      <td>-1.089942</td>\n",
       "    </tr>\n",
       "    <tr>\n",
       "      <th>8</th>\n",
       "      <td>股票_8</td>\n",
       "      <td>1.000609</td>\n",
       "      <td>0.810012</td>\n",
       "      <td>0.974599</td>\n",
       "      <td>-1.494922</td>\n",
       "      <td>0.291666</td>\n",
       "    </tr>\n",
       "    <tr>\n",
       "      <th>9</th>\n",
       "      <td>股票_9</td>\n",
       "      <td>-1.591508</td>\n",
       "      <td>-0.342285</td>\n",
       "      <td>-0.876482</td>\n",
       "      <td>0.557703</td>\n",
       "      <td>-0.789054</td>\n",
       "    </tr>\n",
       "  </tbody>\n",
       "</table>\n",
       "</div>"
      ],
      "text/plain": [
       "  index  2017-01-02 00:00:00  2017-01-03 00:00:00  2017-01-04 00:00:00  \\\n",
       "0  股票_0            -1.200453             0.286523            -0.286581   \n",
       "1  股票_1            -0.006111            -0.001766             0.892958   \n",
       "2  股票_2            -0.490076             1.581466            -1.534533   \n",
       "3  股票_3            -1.742779            -0.235004             0.007309   \n",
       "4  股票_4            -1.221881            -0.624946             0.389926   \n",
       "5  股票_5             0.637084             1.116630             1.252192   \n",
       "6  股票_6             0.300235            -1.681554            -0.958955   \n",
       "7  股票_7             2.033531            -0.919406            -0.484185   \n",
       "8  股票_8             1.000609             0.810012             0.974599   \n",
       "9  股票_9            -1.591508            -0.342285            -0.876482   \n",
       "\n",
       "   2017-01-05 00:00:00  2017-01-06 00:00:00  \n",
       "0            -1.073391             1.578333  \n",
       "1            -0.381487             1.483335  \n",
       "2             0.425127             0.116488  \n",
       "3            -0.323025            -0.537873  \n",
       "4             0.025824             0.459045  \n",
       "5            -0.362733             1.234271  \n",
       "6             0.168612             1.074672  \n",
       "7             0.375911            -1.089942  \n",
       "8            -1.494922             0.291666  \n",
       "9             0.557703            -0.789054  "
      ]
     },
     "metadata": {},
     "execution_count": 15
    }
   ],
   "metadata": {}
  },
  {
   "cell_type": "code",
   "execution_count": 16,
   "source": [
    "# 重置索引,drop=True\r\n",
    "data.reset_index(drop=True)"
   ],
   "outputs": [
    {
     "output_type": "execute_result",
     "data": {
      "text/html": [
       "<div>\n",
       "<style scoped>\n",
       "    .dataframe tbody tr th:only-of-type {\n",
       "        vertical-align: middle;\n",
       "    }\n",
       "\n",
       "    .dataframe tbody tr th {\n",
       "        vertical-align: top;\n",
       "    }\n",
       "\n",
       "    .dataframe thead th {\n",
       "        text-align: right;\n",
       "    }\n",
       "</style>\n",
       "<table border=\"1\" class=\"dataframe\">\n",
       "  <thead>\n",
       "    <tr style=\"text-align: right;\">\n",
       "      <th></th>\n",
       "      <th>2017-01-02</th>\n",
       "      <th>2017-01-03</th>\n",
       "      <th>2017-01-04</th>\n",
       "      <th>2017-01-05</th>\n",
       "      <th>2017-01-06</th>\n",
       "    </tr>\n",
       "  </thead>\n",
       "  <tbody>\n",
       "    <tr>\n",
       "      <th>0</th>\n",
       "      <td>-1.200453</td>\n",
       "      <td>0.286523</td>\n",
       "      <td>-0.286581</td>\n",
       "      <td>-1.073391</td>\n",
       "      <td>1.578333</td>\n",
       "    </tr>\n",
       "    <tr>\n",
       "      <th>1</th>\n",
       "      <td>-0.006111</td>\n",
       "      <td>-0.001766</td>\n",
       "      <td>0.892958</td>\n",
       "      <td>-0.381487</td>\n",
       "      <td>1.483335</td>\n",
       "    </tr>\n",
       "    <tr>\n",
       "      <th>2</th>\n",
       "      <td>-0.490076</td>\n",
       "      <td>1.581466</td>\n",
       "      <td>-1.534533</td>\n",
       "      <td>0.425127</td>\n",
       "      <td>0.116488</td>\n",
       "    </tr>\n",
       "    <tr>\n",
       "      <th>3</th>\n",
       "      <td>-1.742779</td>\n",
       "      <td>-0.235004</td>\n",
       "      <td>0.007309</td>\n",
       "      <td>-0.323025</td>\n",
       "      <td>-0.537873</td>\n",
       "    </tr>\n",
       "    <tr>\n",
       "      <th>4</th>\n",
       "      <td>-1.221881</td>\n",
       "      <td>-0.624946</td>\n",
       "      <td>0.389926</td>\n",
       "      <td>0.025824</td>\n",
       "      <td>0.459045</td>\n",
       "    </tr>\n",
       "    <tr>\n",
       "      <th>5</th>\n",
       "      <td>0.637084</td>\n",
       "      <td>1.116630</td>\n",
       "      <td>1.252192</td>\n",
       "      <td>-0.362733</td>\n",
       "      <td>1.234271</td>\n",
       "    </tr>\n",
       "    <tr>\n",
       "      <th>6</th>\n",
       "      <td>0.300235</td>\n",
       "      <td>-1.681554</td>\n",
       "      <td>-0.958955</td>\n",
       "      <td>0.168612</td>\n",
       "      <td>1.074672</td>\n",
       "    </tr>\n",
       "    <tr>\n",
       "      <th>7</th>\n",
       "      <td>2.033531</td>\n",
       "      <td>-0.919406</td>\n",
       "      <td>-0.484185</td>\n",
       "      <td>0.375911</td>\n",
       "      <td>-1.089942</td>\n",
       "    </tr>\n",
       "    <tr>\n",
       "      <th>8</th>\n",
       "      <td>1.000609</td>\n",
       "      <td>0.810012</td>\n",
       "      <td>0.974599</td>\n",
       "      <td>-1.494922</td>\n",
       "      <td>0.291666</td>\n",
       "    </tr>\n",
       "    <tr>\n",
       "      <th>9</th>\n",
       "      <td>-1.591508</td>\n",
       "      <td>-0.342285</td>\n",
       "      <td>-0.876482</td>\n",
       "      <td>0.557703</td>\n",
       "      <td>-0.789054</td>\n",
       "    </tr>\n",
       "  </tbody>\n",
       "</table>\n",
       "</div>"
      ],
      "text/plain": [
       "   2017-01-02  2017-01-03  2017-01-04  2017-01-05  2017-01-06\n",
       "0   -1.200453    0.286523   -0.286581   -1.073391    1.578333\n",
       "1   -0.006111   -0.001766    0.892958   -0.381487    1.483335\n",
       "2   -0.490076    1.581466   -1.534533    0.425127    0.116488\n",
       "3   -1.742779   -0.235004    0.007309   -0.323025   -0.537873\n",
       "4   -1.221881   -0.624946    0.389926    0.025824    0.459045\n",
       "5    0.637084    1.116630    1.252192   -0.362733    1.234271\n",
       "6    0.300235   -1.681554   -0.958955    0.168612    1.074672\n",
       "7    2.033531   -0.919406   -0.484185    0.375911   -1.089942\n",
       "8    1.000609    0.810012    0.974599   -1.494922    0.291666\n",
       "9   -1.591508   -0.342285   -0.876482    0.557703   -0.789054"
      ]
     },
     "metadata": {},
     "execution_count": 16
    }
   ],
   "metadata": {}
  },
  {
   "cell_type": "code",
   "execution_count": 17,
   "source": [
    "#设置新索引\r\n",
    "df = pd.DataFrame({'month': [1, 4, 7, 10],\r\n",
    "                    'year': [2012, 2014, 2013, 2014],\r\n",
    "                    'sale':[55, 40, 84, 31]})\r\n",
    "df.set_index('month')"
   ],
   "outputs": [
    {
     "output_type": "execute_result",
     "data": {
      "text/html": [
       "<div>\n",
       "<style scoped>\n",
       "    .dataframe tbody tr th:only-of-type {\n",
       "        vertical-align: middle;\n",
       "    }\n",
       "\n",
       "    .dataframe tbody tr th {\n",
       "        vertical-align: top;\n",
       "    }\n",
       "\n",
       "    .dataframe thead th {\n",
       "        text-align: right;\n",
       "    }\n",
       "</style>\n",
       "<table border=\"1\" class=\"dataframe\">\n",
       "  <thead>\n",
       "    <tr style=\"text-align: right;\">\n",
       "      <th></th>\n",
       "      <th>year</th>\n",
       "      <th>sale</th>\n",
       "    </tr>\n",
       "    <tr>\n",
       "      <th>month</th>\n",
       "      <th></th>\n",
       "      <th></th>\n",
       "    </tr>\n",
       "  </thead>\n",
       "  <tbody>\n",
       "    <tr>\n",
       "      <th>1</th>\n",
       "      <td>2012</td>\n",
       "      <td>55</td>\n",
       "    </tr>\n",
       "    <tr>\n",
       "      <th>4</th>\n",
       "      <td>2014</td>\n",
       "      <td>40</td>\n",
       "    </tr>\n",
       "    <tr>\n",
       "      <th>7</th>\n",
       "      <td>2013</td>\n",
       "      <td>84</td>\n",
       "    </tr>\n",
       "    <tr>\n",
       "      <th>10</th>\n",
       "      <td>2014</td>\n",
       "      <td>31</td>\n",
       "    </tr>\n",
       "  </tbody>\n",
       "</table>\n",
       "</div>"
      ],
      "text/plain": [
       "       year  sale\n",
       "month            \n",
       "1      2012    55\n",
       "4      2014    40\n",
       "7      2013    84\n",
       "10     2014    31"
      ]
     },
     "metadata": {},
     "execution_count": 17
    }
   ],
   "metadata": {}
  },
  {
   "cell_type": "code",
   "execution_count": 18,
   "source": [
    "df.set_index(['year', 'month'])"
   ],
   "outputs": [
    {
     "output_type": "execute_result",
     "data": {
      "text/html": [
       "<div>\n",
       "<style scoped>\n",
       "    .dataframe tbody tr th:only-of-type {\n",
       "        vertical-align: middle;\n",
       "    }\n",
       "\n",
       "    .dataframe tbody tr th {\n",
       "        vertical-align: top;\n",
       "    }\n",
       "\n",
       "    .dataframe thead th {\n",
       "        text-align: right;\n",
       "    }\n",
       "</style>\n",
       "<table border=\"1\" class=\"dataframe\">\n",
       "  <thead>\n",
       "    <tr style=\"text-align: right;\">\n",
       "      <th></th>\n",
       "      <th></th>\n",
       "      <th>sale</th>\n",
       "    </tr>\n",
       "    <tr>\n",
       "      <th>year</th>\n",
       "      <th>month</th>\n",
       "      <th></th>\n",
       "    </tr>\n",
       "  </thead>\n",
       "  <tbody>\n",
       "    <tr>\n",
       "      <th>2012</th>\n",
       "      <th>1</th>\n",
       "      <td>55</td>\n",
       "    </tr>\n",
       "    <tr>\n",
       "      <th>2014</th>\n",
       "      <th>4</th>\n",
       "      <td>40</td>\n",
       "    </tr>\n",
       "    <tr>\n",
       "      <th>2013</th>\n",
       "      <th>7</th>\n",
       "      <td>84</td>\n",
       "    </tr>\n",
       "    <tr>\n",
       "      <th>2014</th>\n",
       "      <th>10</th>\n",
       "      <td>31</td>\n",
       "    </tr>\n",
       "  </tbody>\n",
       "</table>\n",
       "</div>"
      ],
      "text/plain": [
       "            sale\n",
       "year month      \n",
       "2012 1        55\n",
       "2014 4        40\n",
       "2013 7        84\n",
       "2014 10       31"
      ]
     },
     "metadata": {},
     "execution_count": 18
    }
   ],
   "metadata": {}
  },
  {
   "cell_type": "code",
   "execution_count": 19,
   "source": [
    "df.index"
   ],
   "outputs": [
    {
     "output_type": "execute_result",
     "data": {
      "text/plain": [
       "RangeIndex(start=0, stop=4, step=1)"
      ]
     },
     "metadata": {},
     "execution_count": 19
    }
   ],
   "metadata": {}
  },
  {
   "cell_type": "code",
   "execution_count": 20,
   "source": [
    "df.index.names"
   ],
   "outputs": [
    {
     "output_type": "execute_result",
     "data": {
      "text/plain": [
       "FrozenList([None])"
      ]
     },
     "metadata": {},
     "execution_count": 20
    }
   ],
   "metadata": {}
  },
  {
   "cell_type": "code",
   "execution_count": 21,
   "source": [
    "df.index.levels\r\n"
   ],
   "outputs": [
    {
     "output_type": "error",
     "ename": "AttributeError",
     "evalue": "'RangeIndex' object has no attribute 'levels'",
     "traceback": [
      "\u001b[1;31m---------------------------------------------------------------------------\u001b[0m",
      "\u001b[1;31mAttributeError\u001b[0m                            Traceback (most recent call last)",
      "\u001b[1;32m~\\AppData\\Local\\Temp/ipykernel_38976/2578370060.py\u001b[0m in \u001b[0;36m<module>\u001b[1;34m\u001b[0m\n\u001b[1;32m----> 1\u001b[1;33m \u001b[0mdf\u001b[0m\u001b[1;33m.\u001b[0m\u001b[0mindex\u001b[0m\u001b[1;33m.\u001b[0m\u001b[0mlevels\u001b[0m\u001b[1;33m\u001b[0m\u001b[1;33m\u001b[0m\u001b[0m\n\u001b[0m",
      "\u001b[1;31mAttributeError\u001b[0m: 'RangeIndex' object has no attribute 'levels'"
     ]
    }
   ],
   "metadata": {}
  },
  {
   "cell_type": "code",
   "execution_count": 22,
   "source": [
    "#Panel\r\n",
    "p = pd.Panel(np.arange(24).reshape(4,3,2),\r\n",
    "                 items=list('ABCD'),\r\n",
    "                 major_axis=pd.date_range('20130101', periods=3),\r\n",
    "                 minor_axis=['first', 'second'])\r\n",
    "p"
   ],
   "outputs": [
    {
     "output_type": "error",
     "ename": "AttributeError",
     "evalue": "module 'pandas' has no attribute 'Panel'",
     "traceback": [
      "\u001b[1;31m---------------------------------------------------------------------------\u001b[0m",
      "\u001b[1;31mAttributeError\u001b[0m                            Traceback (most recent call last)",
      "\u001b[1;32m~\\AppData\\Local\\Temp/ipykernel_38976/2347162258.py\u001b[0m in \u001b[0;36m<module>\u001b[1;34m\u001b[0m\n\u001b[0;32m      1\u001b[0m \u001b[1;31m#Panel\u001b[0m\u001b[1;33m\u001b[0m\u001b[1;33m\u001b[0m\u001b[1;33m\u001b[0m\u001b[0m\n\u001b[1;32m----> 2\u001b[1;33m p = pd.Panel(np.arange(24).reshape(4,3,2),\n\u001b[0m\u001b[0;32m      3\u001b[0m                  \u001b[0mitems\u001b[0m\u001b[1;33m=\u001b[0m\u001b[0mlist\u001b[0m\u001b[1;33m(\u001b[0m\u001b[1;34m'ABCD'\u001b[0m\u001b[1;33m)\u001b[0m\u001b[1;33m,\u001b[0m\u001b[1;33m\u001b[0m\u001b[1;33m\u001b[0m\u001b[0m\n\u001b[0;32m      4\u001b[0m                  \u001b[0mmajor_axis\u001b[0m\u001b[1;33m=\u001b[0m\u001b[0mpd\u001b[0m\u001b[1;33m.\u001b[0m\u001b[0mdate_range\u001b[0m\u001b[1;33m(\u001b[0m\u001b[1;34m'20130101'\u001b[0m\u001b[1;33m,\u001b[0m \u001b[0mperiods\u001b[0m\u001b[1;33m=\u001b[0m\u001b[1;36m3\u001b[0m\u001b[1;33m)\u001b[0m\u001b[1;33m,\u001b[0m\u001b[1;33m\u001b[0m\u001b[1;33m\u001b[0m\u001b[0m\n\u001b[0;32m      5\u001b[0m                  minor_axis=['first', 'second'])\n",
      "\u001b[1;32m~\\anaconda3\\envs\\myenv\\lib\\site-packages\\pandas\\__init__.py\u001b[0m in \u001b[0;36m__getattr__\u001b[1;34m(name)\u001b[0m\n\u001b[0;32m    242\u001b[0m         \u001b[1;32mreturn\u001b[0m \u001b[0m_SparseArray\u001b[0m\u001b[1;33m\u001b[0m\u001b[1;33m\u001b[0m\u001b[0m\n\u001b[0;32m    243\u001b[0m \u001b[1;33m\u001b[0m\u001b[0m\n\u001b[1;32m--> 244\u001b[1;33m     \u001b[1;32mraise\u001b[0m \u001b[0mAttributeError\u001b[0m\u001b[1;33m(\u001b[0m\u001b[1;34mf\"module 'pandas' has no attribute '{name}'\"\u001b[0m\u001b[1;33m)\u001b[0m\u001b[1;33m\u001b[0m\u001b[1;33m\u001b[0m\u001b[0m\n\u001b[0m\u001b[0;32m    245\u001b[0m \u001b[1;33m\u001b[0m\u001b[0m\n\u001b[0;32m    246\u001b[0m \u001b[1;33m\u001b[0m\u001b[0m\n",
      "\u001b[1;31mAttributeError\u001b[0m: module 'pandas' has no attribute 'Panel'"
     ]
    }
   ],
   "metadata": {}
  },
  {
   "cell_type": "code",
   "execution_count": 24,
   "source": [
    "# series\r\n",
    "type(data['2017-01-02'])\r\n",
    "pd.core.series.Series\r\n",
    "\r\n",
    "# 这一步相当于是series去获取行索引的值\r\n",
    "data['2017-01-02']['股票_0']"
   ],
   "outputs": [
    {
     "output_type": "execute_result",
     "data": {
      "text/plain": [
       "-1.200453203639656"
      ]
     },
     "metadata": {},
     "execution_count": 24
    }
   ],
   "metadata": {}
  },
  {
   "cell_type": "code",
   "execution_count": 26,
   "source": [
    "#创建series\r\n",
    "#指定内容 默认索引\r\n",
    "pd.Series(np.arange(10))"
   ],
   "outputs": [
    {
     "output_type": "execute_result",
     "data": {
      "text/plain": [
       "0    0\n",
       "1    1\n",
       "2    2\n",
       "3    3\n",
       "4    4\n",
       "5    5\n",
       "6    6\n",
       "7    7\n",
       "8    8\n",
       "9    9\n",
       "dtype: int32"
      ]
     },
     "metadata": {},
     "execution_count": 26
    }
   ],
   "metadata": {}
  },
  {
   "cell_type": "code",
   "execution_count": 27,
   "source": [
    "#指定索引\r\n",
    "pd.Series([6.7,5.6,3,10,2], index=[1,2,3,4,5])"
   ],
   "outputs": [
    {
     "output_type": "execute_result",
     "data": {
      "text/plain": [
       "1     6.7\n",
       "2     5.6\n",
       "3     3.0\n",
       "4    10.0\n",
       "5     2.0\n",
       "dtype: float64"
      ]
     },
     "metadata": {},
     "execution_count": 27
    }
   ],
   "metadata": {}
  },
  {
   "cell_type": "code",
   "execution_count": 29,
   "source": [
    "#通过字典数据创建\r\n",
    "pd.Series({'red':100, 'blue':200, 'green': 500, 'yellow':1000})"
   ],
   "outputs": [
    {
     "output_type": "execute_result",
     "data": {
      "text/plain": [
       "red        100\n",
       "blue       200\n",
       "green      500\n",
       "yellow    1000\n",
       "dtype: int64"
      ]
     },
     "metadata": {},
     "execution_count": 29
    }
   ],
   "metadata": {}
  }
 ],
 "metadata": {
  "orig_nbformat": 4,
  "language_info": {
   "name": "python",
   "version": "3.7.10",
   "mimetype": "text/x-python",
   "codemirror_mode": {
    "name": "ipython",
    "version": 3
   },
   "pygments_lexer": "ipython3",
   "nbconvert_exporter": "python",
   "file_extension": ".py"
  },
  "kernelspec": {
   "name": "python3",
   "display_name": "Python 3.7.10 64-bit ('myenv': conda)"
  },
  "interpreter": {
   "hash": "a0c4eabb6bbdafe74e9343f06eb0ddaead977bb9e3726d982ccb327fc4478aed"
  }
 },
 "nbformat": 4,
 "nbformat_minor": 2
}