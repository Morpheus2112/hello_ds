{
 "cells": [
  {
   "cell_type": "code",
   "execution_count": 1,
   "source": [
    "import numpy as np\r\n",
    "\r\n",
    "# 创建ndarray\r\n",
    "score = np.array([[80, 89, 86, 67, 79],\r\n",
    "[78, 97, 89, 67, 81],\r\n",
    "[90, 94, 78, 67, 74],\r\n",
    "[91, 91, 90, 67, 69],\r\n",
    "[76, 87, 75, 67, 86],\r\n",
    "[70, 79, 84, 67, 84],\r\n",
    "[94, 92, 93, 67, 64],\r\n",
    "[86, 85, 83, 67, 80]])\r\n",
    "\r\n",
    "score"
   ],
   "outputs": [
    {
     "output_type": "execute_result",
     "data": {
      "text/plain": [
       "array([[80, 89, 86, 67, 79],\n",
       "       [78, 97, 89, 67, 81],\n",
       "       [90, 94, 78, 67, 74],\n",
       "       [91, 91, 90, 67, 69],\n",
       "       [76, 87, 75, 67, 86],\n",
       "       [70, 79, 84, 67, 84],\n",
       "       [94, 92, 93, 67, 64],\n",
       "       [86, 85, 83, 67, 80]])"
      ]
     },
     "metadata": {},
     "execution_count": 1
    }
   ],
   "metadata": {}
  },
  {
   "cell_type": "code",
   "execution_count": 2,
   "source": [
    "import random\r\n",
    "import time\r\n",
    "import numpy as np\r\n",
    "a = []\r\n",
    "for i in range(100000000):\r\n",
    "    a.append(random.random())\r\n",
    "\r\n",
    "# 通过%time魔法方法, 查看当前行的代码运行一次所花费的时间\r\n",
    "%time sum1=sum(a)\r\n",
    "\r\n",
    "b=np.array(a)\r\n",
    "\r\n",
    "%time sum2=np.sum(b)"
   ],
   "outputs": [
    {
     "output_type": "stream",
     "name": "stdout",
     "text": [
      "Wall time: 474 ms\n",
      "Wall time: 164 ms\n"
     ]
    }
   ],
   "metadata": {}
  }
 ],
 "metadata": {
  "orig_nbformat": 4,
  "language_info": {
   "name": "python",
   "version": "3.7.10",
   "mimetype": "text/x-python",
   "codemirror_mode": {
    "name": "ipython",
    "version": 3
   },
   "pygments_lexer": "ipython3",
   "nbconvert_exporter": "python",
   "file_extension": ".py"
  },
  "kernelspec": {
   "name": "python3",
   "display_name": "Python 3.7.10 64-bit ('myenv': conda)"
  },
  "interpreter": {
   "hash": "a0c4eabb6bbdafe74e9343f06eb0ddaead977bb9e3726d982ccb327fc4478aed"
  }
 },
 "nbformat": 4,
 "nbformat_minor": 2
}