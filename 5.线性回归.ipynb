{
 "cells": [
  {
   "cell_type": "markdown",
   "source": [
    "# 简单的例子"
   ],
   "metadata": {}
  },
  {
   "cell_type": "code",
   "execution_count": 1,
   "source": [
    "from sklearn.linear_model import LinearRegression\r\n",
    "\r\n",
    "x = [[80, 86],\r\n",
    "[82, 80],\r\n",
    "[85, 78],\r\n",
    "[90, 90],\r\n",
    "[86, 82],\r\n",
    "[82, 90],\r\n",
    "[78, 80],\r\n",
    "[92, 94]]\r\n",
    "y = [84.2, 80.6, 80.1, 90, 83.2, 87.6, 79.4, 93.4]\r\n",
    "\r\n",
    "# 实例化API\r\n",
    "estimator = LinearRegression()\r\n",
    "# 使用fit方法进行训练\r\n",
    "estimator.fit(x,y)\r\n",
    "\r\n",
    "estimator.coef_\r\n",
    "\r\n",
    "estimator.predict([[100, 80]])"
   ],
   "outputs": [
    {
     "output_type": "execute_result",
     "data": {
      "text/plain": [
       "array([86.])"
      ]
     },
     "metadata": {},
     "execution_count": 1
    }
   ],
   "metadata": {}
  },
  {
   "cell_type": "markdown",
   "source": [
    "#  案例：波士顿房价预测"
   ],
   "metadata": {}
  },
  {
   "cell_type": "code",
   "execution_count": 2,
   "source": [
    "def linear_model1():\r\n",
    "    \"\"\"\r\n",
    "    线性回归:正规方程\r\n",
    "    :return:None\r\n",
    "    \"\"\"\r\n",
    "    # 1.获取数据\r\n",
    "    data = load_boston()\r\n",
    "\r\n",
    "    # 2.数据集划分\r\n",
    "    x_train, x_test, y_train, y_test = train_test_split(data.data, data.target, random_state=22)\r\n",
    "\r\n",
    "    # 3.特征工程-标准化\r\n",
    "    transfer = StandardScaler()\r\n",
    "    x_train = transfer.fit_transform(x_train)\r\n",
    "    x_test = transfer.fit_transform(x_test)\r\n",
    "\r\n",
    "    # 4.机器学习-线性回归(特征方程)\r\n",
    "    estimator = LinearRegression()\r\n",
    "    estimator.fit(x_train, y_train)\r\n",
    "\r\n",
    "    # 5.模型评估\r\n",
    "    # 5.1 获取系数等值\r\n",
    "    y_predict = estimator.predict(x_test)\r\n",
    "    print(\"预测值为:\\n\", y_predict)\r\n",
    "    print(\"模型中的系数为:\\n\", estimator.coef_)\r\n",
    "    print(\"模型中的偏置为:\\n\", estimator.intercept_)\r\n",
    "\r\n",
    "    # 5.2 评价\r\n",
    "    # 均方误差\r\n",
    "    error = mean_squared_error(y_test, y_predict)\r\n",
    "    print(\"误差为:\\n\", error)\r\n",
    "\r\n",
    "\r\n",
    "def linear_model2():\r\n",
    "    \"\"\"\r\n",
    "    线性回归:梯度下降法\r\n",
    "    :return:None\r\n",
    "    \"\"\"\r\n",
    "    # 1.获取数据\r\n",
    "    data = load_boston()\r\n",
    "\r\n",
    "    # 2.数据集划分\r\n",
    "    x_train, x_test, y_train, y_test = train_test_split(data.data, data.target, random_state=22)\r\n",
    "\r\n",
    "    # 3.特征工程-标准化\r\n",
    "    transfer = StandardScaler()\r\n",
    "    x_train = transfer.fit_transform(x_train)\r\n",
    "    x_test = transfer.fit_transform(x_test)\r\n",
    "\r\n",
    "    # 4.机器学习-线性回归(特征方程)\r\n",
    "    estimator = SGDRegressor(max_iter=1000)\r\n",
    "    estimator.fit(x_train, y_train)\r\n",
    "\r\n",
    "    # 5.模型评估\r\n",
    "    # 5.1 获取系数等值\r\n",
    "    y_predict = estimator.predict(x_test)\r\n",
    "    print(\"预测值为:\\n\", y_predict)\r\n",
    "    print(\"模型中的系数为:\\n\", estimator.coef_)\r\n",
    "    print(\"模型中的偏置为:\\n\", estimator.intercept_)\r\n",
    "\r\n",
    "    # 5.2 评价\r\n",
    "    # 均方误差\r\n",
    "    error = mean_squared_error(y_test, y_predict)\r\n",
    "    print(\"误差为:\\n\", error)"
   ],
   "outputs": [],
   "metadata": {}
  },
  {
   "cell_type": "markdown",
   "source": [
    "# 岭回归，考虑增加系数的惩罚"
   ],
   "metadata": {}
  },
  {
   "cell_type": "code",
   "execution_count": 3,
   "source": [
    "from sklearn.linear_model import Ridge, ElasticNet, Lasso"
   ],
   "outputs": [],
   "metadata": {}
  },
  {
   "cell_type": "code",
   "execution_count": null,
   "source": [
    "class _BaseRidgeCV(LinearModel):\r\n",
    "    def __init__(self, alphas=(0.1, 1.0, 10.0),\r\n",
    "                 fit_intercept=True, normalize=False,scoring=None,\r\n",
    "                 cv=None, gcv_mode=None,\r\n",
    "                 store_cv_values=False):"
   ],
   "outputs": [],
   "metadata": {}
  },
  {
   "cell_type": "code",
   "execution_count": 4,
   "source": [
    "def b():\r\n",
    "    \"\"\"\r\n",
    "    线性回归:岭回归\r\n",
    "    :return:\r\n",
    "    \"\"\"\r\n",
    "    # 1.获取数据\r\n",
    "    data = load_boston()\r\n",
    "\r\n",
    "    # 2.数据集划分\r\n",
    "    x_train, x_test, y_train, y_test = train_test_split(data.data, data.target, random_state=22)\r\n",
    "\r\n",
    "    # 3.特征工程-标准化\r\n",
    "    transfer = StandardScaler()\r\n",
    "    x_train = transfer.fit_transform(x_train)\r\n",
    "    x_test = transfer.fit_transform(x_test)\r\n",
    "\r\n",
    "    # 4.机器学习-线性回归(岭回归)\r\n",
    "    estimator = Ridge(alpha=1)\r\n",
    "    # estimator = RidgeCV(alphas=(0.1, 1, 10))\r\n",
    "    estimator.fit(x_train, y_train)\r\n",
    "\r\n",
    "    # 5.模型评估\r\n",
    "    # 5.1 获取系数等值\r\n",
    "    y_predict = estimator.predict(x_test)\r\n",
    "    print(\"预测值为:\\n\", y_predict)\r\n",
    "    print(\"模型中的系数为:\\n\", estimator.coef_)\r\n",
    "    print(\"模型中的偏置为:\\n\", estimator.intercept_)\r\n",
    "\r\n",
    "    # 5.2 评价\r\n",
    "    # 均方误差\r\n",
    "    error = mean_squared_error(y_test, y_predict)\r\n",
    "    print(\"误差为:\\n\", error)"
   ],
   "outputs": [],
   "metadata": {}
  },
  {
   "cell_type": "code",
   "execution_count": 5,
   "source": [
    "linear_model3()"
   ],
   "outputs": [
    {
     "output_type": "error",
     "ename": "NameError",
     "evalue": "name 'load_boston' is not defined",
     "traceback": [
      "\u001b[1;31m---------------------------------------------------------------------------\u001b[0m",
      "\u001b[1;31mNameError\u001b[0m                                 Traceback (most recent call last)",
      "\u001b[1;32m~\\AppData\\Local\\Temp/ipykernel_197664/2792633313.py\u001b[0m in \u001b[0;36m<module>\u001b[1;34m\u001b[0m\n\u001b[1;32m----> 1\u001b[1;33m \u001b[0mlinear_model3\u001b[0m\u001b[1;33m(\u001b[0m\u001b[1;33m)\u001b[0m\u001b[1;33m\u001b[0m\u001b[1;33m\u001b[0m\u001b[0m\n\u001b[0m",
      "\u001b[1;32m~\\AppData\\Local\\Temp/ipykernel_197664/2228684343.py\u001b[0m in \u001b[0;36mlinear_model3\u001b[1;34m()\u001b[0m\n\u001b[0;32m      5\u001b[0m     \"\"\"\n\u001b[0;32m      6\u001b[0m     \u001b[1;31m# 1.获取数据\u001b[0m\u001b[1;33m\u001b[0m\u001b[1;33m\u001b[0m\u001b[1;33m\u001b[0m\u001b[0m\n\u001b[1;32m----> 7\u001b[1;33m     \u001b[0mdata\u001b[0m \u001b[1;33m=\u001b[0m \u001b[0mload_boston\u001b[0m\u001b[1;33m(\u001b[0m\u001b[1;33m)\u001b[0m\u001b[1;33m\u001b[0m\u001b[1;33m\u001b[0m\u001b[0m\n\u001b[0m\u001b[0;32m      8\u001b[0m \u001b[1;33m\u001b[0m\u001b[0m\n\u001b[0;32m      9\u001b[0m     \u001b[1;31m# 2.数据集划分\u001b[0m\u001b[1;33m\u001b[0m\u001b[1;33m\u001b[0m\u001b[1;33m\u001b[0m\u001b[0m\n",
      "\u001b[1;31mNameError\u001b[0m: name 'load_boston' is not defined"
     ]
    }
   ],
   "metadata": {}
  },
  {
   "cell_type": "markdown",
   "source": [
    "# 模型的保存和加载"
   ],
   "metadata": {}
  },
  {
   "cell_type": "code",
   "execution_count": null,
   "source": [
    "def load_dump_demo():\r\n",
    "    \"\"\"\r\n",
    "    线性回归:岭回归\r\n",
    "    :return:\r\n",
    "    \"\"\"\r\n",
    "    # 1.获取数据\r\n",
    "    data = load_boston()\r\n",
    "\r\n",
    "    # 2.数据集划分\r\n",
    "    x_train, x_test, y_train, y_test = train_test_split(data.data, data.target, random_state=22)\r\n",
    "\r\n",
    "    # 3.特征工程-标准化\r\n",
    "    transfer = StandardScaler()\r\n",
    "    x_train = transfer.fit_transform(x_train)\r\n",
    "    x_test = transfer.fit_transform(x_test)\r\n",
    "\r\n",
    "    # 4.机器学习-线性回归(岭回归)\r\n",
    "    # # 4.1 模型训练\r\n",
    "    # estimator = Ridge(alpha=1)\r\n",
    "    # estimator.fit(x_train, y_train)\r\n",
    "    #\r\n",
    "    # # 4.2 模型保存\r\n",
    "    # joblib.dump(estimator, \"./data/test.pkl\")\r\n",
    "\r\n",
    "    # 4.3 模型加载\r\n",
    "    estimator = joblib.load(\"./data/test.pkl\")\r\n",
    "\r\n",
    "    # 5.模型评估\r\n",
    "    # 5.1 获取系数等值\r\n",
    "    y_predict = estimator.predict(x_test)\r\n",
    "    print(\"预测值为:\\n\", y_predict)\r\n",
    "    print(\"模型中的系数为:\\n\", estimator.coef_)\r\n",
    "    print(\"模型中的偏置为:\\n\", estimator.intercept_)\r\n",
    "\r\n",
    "    # 5.2 评价\r\n",
    "    # 均方误差\r\n",
    "    error = mean_squared_error(y_test, y_predict)\r\n",
    "    print(\"误差为:\\n\", error)"
   ],
   "outputs": [],
   "metadata": {}
  }
 ],
 "metadata": {
  "orig_nbformat": 4,
  "language_info": {
   "name": "python",
   "version": "3.7.10",
   "mimetype": "text/x-python",
   "codemirror_mode": {
    "name": "ipython",
    "version": 3
   },
   "pygments_lexer": "ipython3",
   "nbconvert_exporter": "python",
   "file_extension": ".py"
  },
  "kernelspec": {
   "name": "python3",
   "display_name": "Python 3.7.10 64-bit ('myenv': conda)"
  },
  "interpreter": {
   "hash": "a0c4eabb6bbdafe74e9343f06eb0ddaead977bb9e3726d982ccb327fc4478aed"
  }
 },
 "nbformat": 4,
 "nbformat_minor": 2
}