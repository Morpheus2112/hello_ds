{
 "cells": [
  {
   "cell_type": "code",
   "execution_count": 2,
   "source": [
    "import numpy as np\r\n",
    "# 重新生成8只股票10个交易日的涨跌幅数据\r\n",
    "stock_change = np.random.normal(0, 1, (8, 10))\r\n",
    "stock_change = stock_change[0:5, 0:5]\r\n",
    "# 逻辑判断, 如果涨跌幅大于0.5就标记为True 否则为False\r\n",
    "stock_change > 0.5\r\n",
    "# BOOL赋值, 将满足条件的设置为指定的值-布尔索引\r\n",
    "stock_change[stock_change > 0.5] = 1"
   ],
   "outputs": [],
   "metadata": {}
  },
  {
   "cell_type": "code",
   "execution_count": 3,
   "source": [
    " np.all(stock_change[0:2, 0:5] > 0)"
   ],
   "outputs": [
    {
     "output_type": "execute_result",
     "data": {
      "text/plain": [
       "False"
      ]
     },
     "metadata": {},
     "execution_count": 3
    }
   ],
   "metadata": {}
  },
  {
   "cell_type": "code",
   "execution_count": 4,
   "source": [
    " np.any(stock_change[0:5, :] > 0 )"
   ],
   "outputs": [
    {
     "output_type": "execute_result",
     "data": {
      "text/plain": [
       "True"
      ]
     },
     "metadata": {},
     "execution_count": 4
    }
   ],
   "metadata": {}
  },
  {
   "cell_type": "code",
   "execution_count": 5,
   "source": [
    "temp = stock_change[:4, :4]\r\n",
    "np.where(temp > 0, 1, 0)"
   ],
   "outputs": [
    {
     "output_type": "execute_result",
     "data": {
      "text/plain": [
       "array([[1, 0, 0, 1],\n",
       "       [1, 1, 0, 1],\n",
       "       [1, 0, 1, 1],\n",
       "       [0, 1, 0, 0]])"
      ]
     },
     "metadata": {},
     "execution_count": 5
    }
   ],
   "metadata": {}
  },
  {
   "cell_type": "code",
   "execution_count": 6,
   "source": [
    "# 判断前四个股票前四天的涨跌幅 大于0.5并且小于1的，换为1，否则为0\r\n",
    "# 判断前四个股票前四天的涨跌幅 大于0.5或者小于-0.5的，换为1，否则为0\r\n",
    "np.where(np.logical_and(temp > 0.5, temp < 1), 1, 0)\r\n",
    "np.where(np.logical_or(temp > 0.5, temp < -0.5), 1, 0)"
   ],
   "outputs": [
    {
     "output_type": "execute_result",
     "data": {
      "text/plain": [
       "array([[1, 1, 0, 1],\n",
       "       [1, 0, 1, 1],\n",
       "       [0, 0, 1, 1],\n",
       "       [1, 1, 0, 0]])"
      ]
     },
     "metadata": {},
     "execution_count": 6
    }
   ],
   "metadata": {}
  },
  {
   "cell_type": "code",
   "execution_count": 7,
   "source": [
    "# 接下来对于这4只股票的4天数据，进行一些统计运算\r\n",
    "# 指定行 去统计\r\n",
    "print(\"前四只股票前四天的最大涨幅{}\".format(np.max(temp, axis=1)))\r\n",
    "# 使用min, std, mean\r\n",
    "print(\"前四只股票前四天的最大跌幅{}\".format(np.min(temp, axis=1)))\r\n",
    "print(\"前四只股票前四天的波动程度{}\".format(np.std(temp, axis=1)))\r\n",
    "print(\"前四只股票前四天的平均涨跌幅{}\".format(np.mean(temp, axis=1)))"
   ],
   "outputs": [
    {
     "output_type": "stream",
     "name": "stdout",
     "text": [
      "前四只股票前四天的最大涨幅[1. 1. 1. 1.]\n",
      "前四只股票前四天的最大跌幅[-0.85899066 -1.75500486 -0.42924032 -0.96601089]\n",
      "前四只股票前四天的波动程度[0.80502014 1.12775149 0.59358248 0.71429476]\n",
      "前四只股票前四天的平均涨跌幅[ 0.2253278   0.12932638  0.46064342 -0.12982511]\n"
     ]
    }
   ],
   "metadata": {}
  },
  {
   "cell_type": "code",
   "execution_count": 8,
   "source": [
    "# 获取股票指定哪一天的涨幅最大\r\n",
    "print(\"前四只股票前四天内涨幅最大{}\".format(np.argmax(temp, axis=1)))\r\n",
    "print(\"前四天一天内涨幅最大的股票{}\".format(np.argmax(temp, axis=0)))"
   ],
   "outputs": [
    {
     "output_type": "stream",
     "name": "stdout",
     "text": [
      "前四只股票前四天内涨幅最大[0 0 2 1]\n",
      "前四天一天内涨幅最大的股票[0 3 2 0]\n"
     ]
    }
   ],
   "metadata": {}
  }
 ],
 "metadata": {
  "orig_nbformat": 4,
  "language_info": {
   "name": "python",
   "version": "3.7.10",
   "mimetype": "text/x-python",
   "codemirror_mode": {
    "name": "ipython",
    "version": 3
   },
   "pygments_lexer": "ipython3",
   "nbconvert_exporter": "python",
   "file_extension": ".py"
  },
  "kernelspec": {
   "name": "python3",
   "display_name": "Python 3.7.10 64-bit ('myenv': conda)"
  },
  "interpreter": {
   "hash": "a0c4eabb6bbdafe74e9343f06eb0ddaead977bb9e3726d982ccb327fc4478aed"
  }
 },
 "nbformat": 4,
 "nbformat_minor": 2
}